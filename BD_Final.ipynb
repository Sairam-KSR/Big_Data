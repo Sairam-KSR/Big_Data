{
  "cells": [
    {
      "cell_type": "markdown",
      "metadata": {
        "id": "gnbk0jieuyxb"
      },
      "source": [
        "# Setting up Cassandra"
      ]
    },
    {
      "cell_type": "markdown",
      "metadata": {
        "id": "uJwH9X0bx0Fv"
      },
      "source": [
        "### Installing Cassandra Drivers\n"
      ]
    },
    {
      "cell_type": "code",
      "execution_count": null,
      "metadata": {
        "colab": {
          "base_uri": "https://localhost:8080/"
        },
        "id": "XVtJcsxYfme9",
        "outputId": "f54b5a68-6744-4f0e-a420-b31874f1823e"
      },
      "outputs": [
        {
          "output_type": "stream",
          "name": "stdout",
          "text": [
            "Requirement already satisfied: cassandra-driver in /usr/local/lib/python3.10/dist-packages (3.29.2)\n",
            "Requirement already satisfied: geomet<0.3,>=0.1 in /usr/local/lib/python3.10/dist-packages (from cassandra-driver) (0.2.1.post1)\n",
            "Requirement already satisfied: click in /usr/local/lib/python3.10/dist-packages (from geomet<0.3,>=0.1->cassandra-driver) (8.1.7)\n",
            "Requirement already satisfied: six in /usr/local/lib/python3.10/dist-packages (from geomet<0.3,>=0.1->cassandra-driver) (1.17.0)\n"
          ]
        }
      ],
      "source": [
        "!pip install cassandra-driver\n"
      ]
    },
    {
      "cell_type": "markdown",
      "metadata": {
        "id": "UDkVLO0RLZC9"
      },
      "source": [
        "### Importing Libraries"
      ]
    },
    {
      "cell_type": "code",
      "execution_count": null,
      "metadata": {
        "id": "twzFRgwmfsRe"
      },
      "outputs": [],
      "source": [
        "from cassandra.cluster import Cluster\n",
        "from cassandra.auth import PlainTextAuthProvider\n",
        "import json\n",
        "import pandas as pd\n",
        "from datetime import datetime\n",
        "from sklearn.preprocessing import MinMaxScaler\n",
        "import regex\n",
        "from sklearn.model_selection import train_test_split\n",
        "from sklearn.linear_model import LogisticRegression\n",
        "from sklearn.metrics import accuracy_score"
      ]
    },
    {
      "cell_type": "markdown",
      "metadata": {
        "id": "VG2C8GFs_T8V"
      },
      "source": [
        "### Setting up a connection"
      ]
    },
    {
      "cell_type": "code",
      "execution_count": null,
      "metadata": {
        "id": "t-g8t8Duft8o"
      },
      "outputs": [],
      "source": [
        "def get_connection():\n",
        "  try:\n",
        "\n",
        "    cloud_config= {\n",
        "      'secure_connect_bundle': 'secure-connect-mydb.zip'\n",
        "    }\n",
        "    #Initialize the token downloaded\n",
        "    with open(\"mydb-token.json\") as f:\n",
        "        secrets = json.load(f)\n",
        "\n",
        "    CLIENT_ID = secrets[\"clientId\"]\n",
        "    CLIENT_SECRET = secrets[\"secret\"]\n",
        "\n",
        "    auth_provider = PlainTextAuthProvider(CLIENT_ID, CLIENT_SECRET)\n",
        "    cluster = Cluster(cloud=cloud_config, auth_provider=auth_provider)\n",
        "    session = cluster.connect()\n",
        "    if session:\n",
        "      print(\"Connection Established !!\")\n",
        "    else:\n",
        "      print(\"Connection Failed !!\")\n",
        "    return session\n",
        "\n",
        "  except Exception as e:\n",
        "    print(e)\n",
        "    return None"
      ]
    },
    {
      "cell_type": "markdown",
      "source": [
        "### Session Creation"
      ],
      "metadata": {
        "id": "J8EzVCkIYJnd"
      }
    },
    {
      "cell_type": "code",
      "execution_count": null,
      "metadata": {
        "colab": {
          "base_uri": "https://localhost:8080/"
        },
        "id": "g7fZysIn0CHl",
        "outputId": "e1b2e6bf-f998-447a-8980-76235037c0df"
      },
      "outputs": [
        {
          "output_type": "stream",
          "name": "stderr",
          "text": [
            "WARNING:cassandra.cluster:Downgrading core protocol version from 66 to 65 for 0fce8e6c-7e10-40ac-a56f-a8492eecba58-eu-west-1.db.astra.datastax.com:29042:0750e59f-441b-37bb-b0a7-e097c5d725f7. To avoid this, it is best practice to explicitly set Cluster(protocol_version) to the version supported by your cluster. http://datastax.github.io/python-driver/api/cassandra/cluster.html#cassandra.cluster.Cluster.protocol_version\n",
            "WARNING:cassandra.cluster:Downgrading core protocol version from 65 to 5 for 0fce8e6c-7e10-40ac-a56f-a8492eecba58-eu-west-1.db.astra.datastax.com:29042:0750e59f-441b-37bb-b0a7-e097c5d725f7. To avoid this, it is best practice to explicitly set Cluster(protocol_version) to the version supported by your cluster. http://datastax.github.io/python-driver/api/cassandra/cluster.html#cassandra.cluster.Cluster.protocol_version\n",
            "WARNING:cassandra.cluster:Downgrading core protocol version from 5 to 4 for 0fce8e6c-7e10-40ac-a56f-a8492eecba58-eu-west-1.db.astra.datastax.com:29042:0750e59f-441b-37bb-b0a7-e097c5d725f7. To avoid this, it is best practice to explicitly set Cluster(protocol_version) to the version supported by your cluster. http://datastax.github.io/python-driver/api/cassandra/cluster.html#cassandra.cluster.Cluster.protocol_version\n"
          ]
        },
        {
          "output_type": "stream",
          "name": "stdout",
          "text": [
            "Connection Established !!\n"
          ]
        }
      ],
      "source": [
        "session = get_connection()"
      ]
    },
    {
      "cell_type": "markdown",
      "source": [
        "# Drop Tables If Exists"
      ],
      "metadata": {
        "id": "1-1EhtOuYNMs"
      }
    },
    {
      "cell_type": "code",
      "execution_count": null,
      "metadata": {
        "id": "WdXuR4F_n9Ip"
      },
      "outputs": [],
      "source": [
        "session.execute(\"drop table if exists bigdata.disease_bronze\")\n",
        "session.execute(\"drop table if exists bigdata.disease_silver\")\n",
        "session.execute(\"drop table if exists bigdata.gold_df1\")\n",
        "session.execute(\"drop table if exists bigdata.gold_df2\")\n",
        "session.execute(\"drop table if exists bigdata.gold_df3\")"
      ]
    },
    {
      "cell_type": "markdown",
      "metadata": {
        "id": "iognTpa7oCGM"
      },
      "source": [
        "#Bronze\n"
      ]
    },
    {
      "cell_type": "code",
      "execution_count": null,
      "metadata": {
        "id": "ZcUJHAR4oORk"
      },
      "outputs": [],
      "source": [
        "def bronze_data():\n",
        "  try:\n",
        "    data = pd.read_csv('dd.csv')\n",
        "    return data\n",
        "  except Exception as e:\n",
        "    print(e)\n",
        "    return None"
      ]
    },
    {
      "cell_type": "markdown",
      "source": [
        "### Bronze table creation"
      ],
      "metadata": {
        "id": "9ouWolrRCxK6"
      }
    },
    {
      "cell_type": "code",
      "execution_count": null,
      "metadata": {
        "id": "rGf9XPDeoo05"
      },
      "outputs": [],
      "source": [
        "def create_bronze_table(session):\n",
        "    try:\n",
        "        session.execute(f\"\"\"\n",
        "        CREATE TABLE IF NOT EXISTS bigdata.disease_bronze (\n",
        "            surrogate_key INT PRIMARY KEY,\n",
        "            disease TEXT,\n",
        "            county TEXT,\n",
        "            year INT,\n",
        "            sex TEXT,\n",
        "            cases FLOAT,\n",
        "            population INT,\n",
        "            rate TEXT,\n",
        "            lower_95_ci FLOAT,\n",
        "            upper_95_ci FLOAT\n",
        "        );\n",
        "        \"\"\")\n",
        "        print(f\"Table bigdata.disease_bronze created successfully.\")\n",
        "    except Exception as e:\n",
        "        print(f\"Error creating table data.disease_bronze: {e}\")"
      ]
    },
    {
      "cell_type": "markdown",
      "source": [
        "### Insert into Bronze Table"
      ],
      "metadata": {
        "id": "1TnLsEVXC0Ye"
      }
    },
    {
      "cell_type": "code",
      "execution_count": null,
      "metadata": {
        "id": "8nds_L9gpwcw"
      },
      "outputs": [],
      "source": [
        "def insert_data_to_bronze(session, data):\n",
        "    prepared_stmt = session.prepare(f\"\"\"\n",
        "    INSERT INTO bigdata.disease_bronze (surrogate_key, disease, county, year, sex, cases, population, rate, lower_95_ci, upper_95_ci)\n",
        "    VALUES (?, ?, ?, ?, ?, ?, ?, ?, ?, ?);\n",
        "    \"\"\")\n",
        "    try:\n",
        "        for index, row in data.iterrows():\n",
        "            session.execute(prepared_stmt, (\n",
        "                int(row['Surrogate Key']), row['Disease'], row['County'], int(row['Year']),\n",
        "                row['Sex'], float(row['Cases']) if pd.notna(row['Cases']) else None,\n",
        "                int(row['Population']), row['Rate'],\n",
        "                float(row['Lower_95__CI']) if pd.notna(row['Lower_95__CI']) else None,\n",
        "                float(row['Upper_95__CI']) if pd.notna(row['Upper_95__CI']) else None))\n",
        "        print(f\"Data inserted successfully into data.disease_bronze.\")\n",
        "    except Exception as e:\n",
        "        print(f\"Error inserting data into bigdata.disease_bronze: {e}\")"
      ]
    },
    {
      "cell_type": "markdown",
      "source": [
        "## Data Cleaning"
      ],
      "metadata": {
        "id": "GkqEVVanC4Q5"
      }
    },
    {
      "cell_type": "markdown",
      "source": [
        "### Drop Missing Values"
      ],
      "metadata": {
        "id": "WYCyvyCOqyeR"
      }
    },
    {
      "cell_type": "code",
      "source": [
        "def drop_missing_values(data):\n",
        "    \"\"\"\n",
        "    Drops rows with any missing values in the DataFrame.\n",
        "\n",
        "    Parameters:\n",
        "        data (DataFrame): The pandas DataFrame from which to drop rows with missing values.\n",
        "\n",
        "    Returns:\n",
        "        DataFrame: A DataFrame with rows containing missing values removed.\n",
        "    \"\"\"\n",
        "    try:\n",
        "        cleaned_data = data.dropna()\n",
        "        print(\"Missing values dropped.\")\n",
        "        return cleaned_data\n",
        "    except Exception as e:\n",
        "        print(f\"Failed to drop missing values: {e}\")\n",
        "        return data"
      ],
      "metadata": {
        "id": "AqAOLKeQG6f8"
      },
      "execution_count": null,
      "outputs": []
    },
    {
      "cell_type": "markdown",
      "source": [
        "### Fill Missing Values"
      ],
      "metadata": {
        "id": "5HQa4O1Nq2WC"
      }
    },
    {
      "cell_type": "code",
      "source": [
        "def fill_missing_values(data, column, method='mean'):\n",
        "    \"\"\"\n",
        "    Fills missing values in a specified column of the dataframe with a given value.\n",
        "\n",
        "    Parameters:\n",
        "        data (DataFrame): The pandas DataFrame to process.\n",
        "        column (str): The column in which to fill missing values.\n",
        "        method : The value to fill missing values with. Default is mean.\n",
        "    \"\"\"\n",
        "    try:\n",
        "        if method == 'mean':\n",
        "            fill_value = data[column].mean()\n",
        "        elif method == 'median':\n",
        "            fill_value = data[column].median()\n",
        "        data[column] = data[column].fillna(fill_value)\n",
        "        print(f\"Missing values filled using {method}.\")\n",
        "        return data\n",
        "\n",
        "    except Exception as e:\n",
        "        print(f\"Error filling missing values in {column}: {e}\")"
      ],
      "metadata": {
        "id": "_J47fDwOG8cJ"
      },
      "execution_count": null,
      "outputs": []
    },
    {
      "cell_type": "markdown",
      "source": [
        "### Convert Data Types"
      ],
      "metadata": {
        "id": "e2Yss0DEq468"
      }
    },
    {
      "cell_type": "code",
      "source": [
        "def convert_data_type(data, column, dtype):\n",
        "    \"\"\"\n",
        "    Converts the data type of a specified column in the dataframe.\n",
        "\n",
        "    Parameters:\n",
        "        data (DataFrame): The pandas DataFrame to process.\n",
        "        column (str): The column for which to change the data type.\n",
        "        dtype (type): The new data type (e.g., int, float, str).\n",
        "    \"\"\"\n",
        "    if data is None or data.empty:\n",
        "        print(\"DataFrame is empty or not defined.\")\n",
        "        return data\n",
        "\n",
        "    try:\n",
        "        data[column] = data[column].astype(dtype)\n",
        "        print(f\"Converted {column} to {dtype}.\")\n",
        "    except Exception as e:\n",
        "        print(f\"Error converting data type of {column}: {e}\")\n",
        "    return data"
      ],
      "metadata": {
        "id": "KLqn8R9OG_eC"
      },
      "execution_count": null,
      "outputs": []
    },
    {
      "cell_type": "markdown",
      "source": [
        "### Remove invalid Data"
      ],
      "metadata": {
        "id": "b92EB5ygq7jW"
      }
    },
    {
      "cell_type": "code",
      "source": [
        "def remove_invalid_data(data, column, condition):\n",
        "    \"\"\"\n",
        "    Removes rows from the DataFrame that contain a specified invalid condition in a specific column.\n",
        "\n",
        "    Parameters:\n",
        "        data (DataFrame): The pandas DataFrame to process.\n",
        "        column (str): The column to inspect for the invalid condition.\n",
        "        condition: The condition that identifies a row as invalid.\n",
        "\n",
        "    Returns:\n",
        "        DataFrame: A DataFrame with invalid rows removed based on the condition.\n",
        "    \"\"\"\n",
        "    try:\n",
        "        cleaned_data = data[data[column] != condition]\n",
        "        print(f\"Invalid data removed from {column}.\")\n",
        "        return cleaned_data\n",
        "    except Exception as e:\n",
        "        print(f\"Failed to remove invalid data from {column}: {e}\")\n",
        "        return data"
      ],
      "metadata": {
        "id": "nmqDx57-HBQA"
      },
      "execution_count": null,
      "outputs": []
    },
    {
      "cell_type": "markdown",
      "source": [
        "### Replace Values"
      ],
      "metadata": {
        "id": "9ZrTVCNLq-Cy"
      }
    },
    {
      "cell_type": "code",
      "source": [
        "def replace_values(data, column, old_value, new_value):\n",
        "    \"\"\"\n",
        "    Replaces specified old values with new values in a particular column of the DataFrame.\n",
        "\n",
        "    Parameters:\n",
        "        data (DataFrame): The pandas DataFrame to process.\n",
        "        column (str): The column where values need to be replaced.\n",
        "        old_value: The value to be replaced.\n",
        "        new_value: The value to replace with.\n",
        "\n",
        "    Returns:\n",
        "        DataFrame: A DataFrame with specified values replaced.\n",
        "    \"\"\"\n",
        "    try:\n",
        "        data[column] = data[column].replace(old_value, new_value)\n",
        "        print(f\"Replaced {old_value} with {new_value} in {column}.\")\n",
        "        return data\n",
        "    except Exception as e:\n",
        "        print(f\"Failed to replace values in {column}: {e}\")\n",
        "        return data"
      ],
      "metadata": {
        "id": "yaYsQdPcHEYX"
      },
      "execution_count": null,
      "outputs": []
    },
    {
      "cell_type": "markdown",
      "source": [
        "### Normalize Columns"
      ],
      "metadata": {
        "id": "PyVtcyK4rAM4"
      }
    },
    {
      "cell_type": "code",
      "source": [
        "def normalize_column(data, column):\n",
        "    \"\"\"\n",
        "    Normalizes the values in a specified column of the DataFrame using Min-Max scaling.\n",
        "\n",
        "    Parameters:\n",
        "        data (DataFrame): The pandas DataFrame to process.\n",
        "        column (str): The column whose values are to be normalized.\n",
        "\n",
        "    Returns:\n",
        "        DataFrame: A DataFrame with the specified column normalized.\n",
        "    \"\"\"\n",
        "    try:\n",
        "        scaler = MinMaxScaler()\n",
        "        data[column] = scaler.fit_transform(data[[column]])\n",
        "        print(f\"Normalized {column}.\")\n",
        "        return data\n",
        "    except Exception as e:\n",
        "        print(f\"Failed to normalize {column}: {e}\")\n",
        "        return data"
      ],
      "metadata": {
        "id": "98a_duNWHENp"
      },
      "execution_count": null,
      "outputs": []
    },
    {
      "cell_type": "markdown",
      "source": [
        "### Replace erroneous values"
      ],
      "metadata": {
        "id": "JTjmZxZWtvr1"
      }
    },
    {
      "cell_type": "code",
      "source": [
        "def replace_erroneous_values(data, column, to_replace, new_value):\n",
        "    \"\"\"\n",
        "    Replaces erroneous values in a specified column of the dataframe.\n",
        "\n",
        "    Parameters:\n",
        "        data (DataFrame): The pandas DataFrame to process.\n",
        "        column (str): The column where values need to be replaced.\n",
        "        to_replace: The value to be replaced.\n",
        "        new_value: The new value to replace with.\n",
        "    \"\"\"\n",
        "    try:\n",
        "        data[column].replace(to_replace, new_value)\n",
        "        print(f\"Replaced {to_replace} with {new_value} in {column}.\")\n",
        "        return data\n",
        "    except Exception as e:\n",
        "        print(f\"Error replacing values in {column}: {e}\")"
      ],
      "metadata": {
        "id": "-cKhB8BCtwQc"
      },
      "execution_count": null,
      "outputs": []
    },
    {
      "cell_type": "markdown",
      "source": [
        "### Rename new column names"
      ],
      "metadata": {
        "id": "eAsD0-DMt403"
      }
    },
    {
      "cell_type": "code",
      "source": [
        "def rename_columns(data, new_names):\n",
        "    \"\"\"\n",
        "    Renames columns in the dataframe according to a given mapping.\n",
        "\n",
        "    Parameters:\n",
        "        data (DataFrame): The pandas DataFrame to process.\n",
        "        new_names (dict): A dictionary mapping old column names to new names.\n",
        "    \"\"\"\n",
        "    try:\n",
        "        data.rename(columns=new_names)\n",
        "        print(\"Columns renamed successfully.\")\n",
        "\n",
        "    except Exception as e:\n",
        "        print(f\"Error renaming columns: {e}\")"
      ],
      "metadata": {
        "id": "B_3Ic5lot8K2"
      },
      "execution_count": null,
      "outputs": []
    },
    {
      "cell_type": "markdown",
      "source": [
        "### Remove Duplicates"
      ],
      "metadata": {
        "id": "3TuMXRlht_8Q"
      }
    },
    {
      "cell_type": "code",
      "source": [
        "def remove_duplicates(data):\n",
        "    \"\"\"\n",
        "    Removes duplicate rows from the dataframe.\n",
        "\n",
        "    Parameters:\n",
        "        data (DataFrame): The pandas DataFrame to process.\n",
        "    \"\"\"\n",
        "    try:\n",
        "        data=data.drop_duplicates()\n",
        "        print(\"Duplicate rows removed.\")\n",
        "        return data\n",
        "    except Exception as e:\n",
        "        print(\"Error removing duplicate rows: {e}\")"
      ],
      "metadata": {
        "id": "YIAYEQ4zuCKm"
      },
      "execution_count": null,
      "outputs": []
    },
    {
      "cell_type": "code",
      "source": [
        "def clean_asterisk(data, column):\n",
        "    \"\"\"\n",
        "    Removes asterisks (*) from the end of the string values in a specified column of the DataFrame.\n",
        "\n",
        "    Parameters:\n",
        "        data (DataFrame): The pandas DataFrame to process.\n",
        "        column (str): The column in which values are to be cleaned.\n",
        "\n",
        "    Returns:\n",
        "        DataFrame: A DataFrame with asterisks removed from the end of values in the specified column.\n",
        "    \"\"\"\n",
        "    if data is None or data.empty:\n",
        "        print(\"DataFrame is empty or not defined. asterisk\")\n",
        "        return data  # Return the unchanged DataFrame or None if it's None.\n",
        "\n",
        "    try:\n",
        "        data[column] = data[column].str.replace(r'\\*$', '', regex=True)\n",
        "        print(f\"Asterisks removed from {column}.\")\n",
        "    except Exception as e:\n",
        "        print(f\"Failed to remove asterisks from {column}: {e}\")\n",
        "    return data"
      ],
      "metadata": {
        "id": "PtKTHGAT5qLp"
      },
      "execution_count": null,
      "outputs": []
    },
    {
      "cell_type": "markdown",
      "source": [
        "## Bronze Operations"
      ],
      "metadata": {
        "id": "WdAN3mx36EqF"
      }
    },
    {
      "cell_type": "code",
      "source": [
        "def bronze_clean(data):\n",
        "\n",
        "  try:\n",
        "      \"\"\"\n",
        "      Processes the 'bronze' DataFrame through various cleaning steps to produce a 'silver' DataFrame.\n",
        "      Each step includes error handling to ensure robust data cleaning operations.\n",
        "\n",
        "      Parameters:\n",
        "          data (DataFrame): The initial 'bronze' DataFrame to be cleaned and processed.\n",
        "\n",
        "      Returns:\n",
        "          DataFrame: The cleaned and processed 'silver' DataFrame.\n",
        "      \"\"\"\n",
        "\n",
        "      # Rename columns for clarity\n",
        "      rename_columns(data, {'Lower_95__CI': 'Lower_95_CI', 'Upper_95__CI': 'Upper_95_CI'})\n",
        "\n",
        "      # Convert 'Rate' from string to numeric, replacing erroneous '-' values\n",
        "      data=replace_erroneous_values(data, 'Rate', '-', None)\n",
        "\n",
        "      ## Clean rate column having asterisk\n",
        "      data = clean_asterisk(data, 'Rate')\n",
        "\n",
        "\n",
        "      # Fill missing values for specific columns, if no rows were dropped\n",
        "      if not data.empty:\n",
        "          data=fill_missing_values(data, 'Population', 'median')\n",
        "          data=fill_missing_values(data, 'Cases', 'mean')\n",
        "          data=fill_missing_values(data, 'Upper_95__CI', 'mean')\n",
        "          data=fill_missing_values(data, 'Lower_95__CI', 'mean')\n",
        "\n",
        "\n",
        "      # data type conversion of year\n",
        "      data=convert_data_type(data, 'Year', int)\n",
        "\n",
        "      # Remove invalid data from a specific column\n",
        "      data = remove_invalid_data(data, 'County', 'Invalid_County')\n",
        "\n",
        "      # Replace specific old values with new ones in a column\n",
        "      replace_values(data, 'Sex', 'Unknown', 'Other')\n",
        "\n",
        "      # Remove duplicate rows\n",
        "      remove_duplicates(data)\n",
        "\n",
        "      return data\n",
        "\n",
        "  except Exception as e:\n",
        "      print(f\"Error in bronze_operations: {e}\")\n",
        "      return None"
      ],
      "metadata": {
        "id": "E9DFD7Hku_MZ"
      },
      "execution_count": null,
      "outputs": []
    },
    {
      "cell_type": "markdown",
      "source": [
        "## Silver Table"
      ],
      "metadata": {
        "id": "lv9mdvYI83_6"
      }
    },
    {
      "cell_type": "code",
      "source": [
        "def create_silver_table(session):\n",
        "    try:\n",
        "        session.execute(f\"\"\"\n",
        "        CREATE TABLE IF NOT EXISTS bigdata.disease_silver (\n",
        "            surrogate_key INT PRIMARY KEY,\n",
        "            disease TEXT,\n",
        "            county TEXT,\n",
        "            year INT,\n",
        "            sex TEXT,\n",
        "            cases FLOAT,\n",
        "            population INT,\n",
        "            rate TEXT,\n",
        "            lower_95_ci FLOAT,\n",
        "            upper_95_ci FLOAT\n",
        "        );\n",
        "        \"\"\")\n",
        "        print(f\"Table bigdata.disease_silver created successfully.\")\n",
        "    except Exception as e:\n",
        "        print(f\"Error creating table bigdata.disease_silver: {e}\")"
      ],
      "metadata": {
        "id": "nBSEcBZ88D_z"
      },
      "execution_count": null,
      "outputs": []
    },
    {
      "cell_type": "markdown",
      "source": [
        "## Silver table insert"
      ],
      "metadata": {
        "id": "MPWP9vBDNvKc"
      }
    },
    {
      "cell_type": "code",
      "source": [
        "def insert_data_to_silver(session, silver_df):\n",
        "    prepared_stmt = session.prepare(f\"\"\"\n",
        "    INSERT INTO bigdata.disease_silver (surrogate_key, disease, county, year, sex, cases, population, rate, lower_95_ci, upper_95_ci)\n",
        "    VALUES (?, ?, ?, ?, ?, ?, ?, ?, ?, ?);\n",
        "    \"\"\")\n",
        "    try:\n",
        "        for index, row in silver_df.iterrows():\n",
        "            session.execute(prepared_stmt, (\n",
        "                int(row['Surrogate Key']), row['Disease'], row['County'], int(row['Year']),\n",
        "                row['Sex'], float(row['Cases']) if pd.notna(row['Cases']) else None,\n",
        "                int(row['Population']), row['Rate'],\n",
        "                float(row['Lower_95__CI']) if pd.notna(row['Lower_95__CI']) else None,\n",
        "                float(row['Upper_95__CI']) if pd.notna(row['Upper_95__CI']) else None))\n",
        "        print(f\"Data inserted successfully into bigdata.disease_silver.\")\n",
        "    except Exception as e:\n",
        "        print(f\"Error inserting data into bigdata.disease_silver: {e}\")"
      ],
      "metadata": {
        "id": "sZI-6rd69L4f"
      },
      "execution_count": null,
      "outputs": []
    },
    {
      "cell_type": "markdown",
      "source": [
        "# Gold"
      ],
      "metadata": {
        "id": "wyCBmZyQ_J68"
      }
    },
    {
      "cell_type": "markdown",
      "source": [
        "### Create Gold DF1"
      ],
      "metadata": {
        "id": "6mFasEdXDbN-"
      }
    },
    {
      "cell_type": "code",
      "source": [
        "def create_gold_df1(silver_df):\n",
        "    \"\"\"\n",
        "    Aggregates the total and average cases per year from the silver dataset.\n",
        "\n",
        "    Parameters:\n",
        "        silver_df (DataFrame): Cleaned DataFrame with at least 'Year' and 'Cases' columns.\n",
        "\n",
        "    Returns:\n",
        "        DataFrame: Aggregated DataFrame with each year's total and average cases.\n",
        "    \"\"\"\n",
        "    gold_df1 = silver_df.groupby('Year').agg(\n",
        "        Total_Cases=pd.NamedAgg(column='Cases', aggfunc='sum'),\n",
        "        Average_Cases=pd.NamedAgg(column='Cases', aggfunc='mean')\n",
        "    ).reset_index()\n",
        "    return gold_df1"
      ],
      "metadata": {
        "id": "pMTxDfjb_JGC"
      },
      "execution_count": null,
      "outputs": []
    },
    {
      "cell_type": "markdown",
      "source": [
        "### Create Gold DF1 Table"
      ],
      "metadata": {
        "id": "gz6S4u7aDyqg"
      }
    },
    {
      "cell_type": "code",
      "source": [
        "def create_table_gold_df1(session):\n",
        "    \"\"\"\n",
        "    Creates a table for storing total and average cases per year in Cassandra.\n",
        "\n",
        "    Parameters:\n",
        "        session: The Cassandra session object.\n",
        "    \"\"\"\n",
        "    session.execute(\"\"\"\n",
        "    CREATE TABLE IF NOT EXISTS bigdata.gold_df1 (\n",
        "        year INT PRIMARY KEY,\n",
        "        total_cases INT,\n",
        "        average_cases FLOAT\n",
        "    )\n",
        "    \"\"\")"
      ],
      "metadata": {
        "id": "HkiYAKwtDZ4o"
      },
      "execution_count": null,
      "outputs": []
    },
    {
      "cell_type": "markdown",
      "source": [
        "### Insert into Gold DF1 Table"
      ],
      "metadata": {
        "id": "hN2f50yID2rh"
      }
    },
    {
      "cell_type": "code",
      "source": [
        "def insert_data_gold_df1(session, data):\n",
        "    \"\"\"\n",
        "    Inserts data into the bigdata.gold_df1 table.\n",
        "\n",
        "    Parameters:\n",
        "        session: The Cassandra session object.\n",
        "        data (DataFrame): DataFrame containing 'Year', 'Total_Cases', and 'Average_Cases'.\n",
        "    \"\"\"\n",
        "    for index, row in data.iterrows():\n",
        "        session.execute(\"\"\"\n",
        "        INSERT INTO bigdata.gold_df1 (year, total_cases, average_cases)\n",
        "        VALUES (%s, %s, %s)\n",
        "        \"\"\", (int(row['Year']), int(row['Total_Cases']), float(row['Average_Cases'])))"
      ],
      "metadata": {
        "id": "aQck8KxCDvmR"
      },
      "execution_count": null,
      "outputs": []
    },
    {
      "cell_type": "markdown",
      "source": [
        "### Plot cases by year"
      ],
      "metadata": {
        "id": "P6zPWZbJF7ax"
      }
    },
    {
      "cell_type": "code",
      "source": [
        "def plot_cases_by_year(gold_df1):\n",
        "    \"\"\"\n",
        "    Creates a dual-axis plot for total and average cases per year.\n",
        "\n",
        "    Parameters:\n",
        "        gold_df1 (DataFrame): DataFrame containing 'Year', 'Total_Cases', and 'Average_Cases'.\n",
        "    \"\"\"\n",
        "    fig, ax1 = plt.subplots(figsize=(10, 6))\n",
        "\n",
        "    # Plot Total Cases\n",
        "    color = 'tab:red'\n",
        "    ax1.set_xlabel('Year')\n",
        "    ax1.set_ylabel('Total Cases', color=color)\n",
        "    ax1.plot(gold_df1['Year'], gold_df1['Total_Cases'], color=color)\n",
        "    ax1.tick_params(axis='y', labelcolor=color)\n",
        "\n",
        "    # Create a twin axis to plot Average Cases\n",
        "    ax2 = ax1.twinx()\n",
        "    color = 'tab:blue'\n",
        "    ax2.set_ylabel('Average Cases', color=color)\n",
        "    ax2.plot(gold_df1['Year'], gold_df1['Average_Cases'], color=color)\n",
        "    ax2.tick_params(axis='y', labelcolor=color)\n",
        "\n",
        "    plt.title('Total and Average Cases by Year')\n",
        "    plt.show()"
      ],
      "metadata": {
        "id": "UZmCMFrn-nkw"
      },
      "execution_count": null,
      "outputs": []
    },
    {
      "cell_type": "markdown",
      "source": [
        "### Create Gold DF2"
      ],
      "metadata": {
        "id": "NNtYqJjKD7fC"
      }
    },
    {
      "cell_type": "code",
      "source": [
        "def create_gold_df2(silver_df):\n",
        "    \"\"\"\n",
        "    Calculates the average population per year from the silver dataset.\n",
        "\n",
        "    Parameters:\n",
        "        silver_df (DataFrame): Cleaned DataFrame with at least 'Year' and 'Population' columns.\n",
        "\n",
        "    Returns:\n",
        "        DataFrame: Aggregated DataFrame with each year's average population.\n",
        "    \"\"\"\n",
        "    gold_df2 = silver_df.groupby('Year').agg(\n",
        "        Average_Population=pd.NamedAgg(column='Population', aggfunc='mean')\n",
        "    ).reset_index()\n",
        "    return gold_df2"
      ],
      "metadata": {
        "id": "obqpD79M_JCo"
      },
      "execution_count": null,
      "outputs": []
    },
    {
      "cell_type": "markdown",
      "source": [
        "### Create Gold DF2 Table"
      ],
      "metadata": {
        "id": "gxbaRe82EDfL"
      }
    },
    {
      "cell_type": "code",
      "source": [
        "def create_table_gold_df2(session):\n",
        "    \"\"\"\n",
        "    Creates a table for storing average population per year in Cassandra.\n",
        "\n",
        "    Parameters:\n",
        "        session: The Cassandra session object.\n",
        "    \"\"\"\n",
        "    session.execute(\"\"\"\n",
        "    CREATE TABLE IF NOT EXISTS bigdata.gold_df2 (\n",
        "        year INT PRIMARY KEY,\n",
        "        average_population FLOAT\n",
        "    )\n",
        "    \"\"\")"
      ],
      "metadata": {
        "id": "C2WTwexCDuKV"
      },
      "execution_count": null,
      "outputs": []
    },
    {
      "cell_type": "markdown",
      "source": [
        "### Insert into Gold DF2 Table"
      ],
      "metadata": {
        "id": "O3yzRGefEGP8"
      }
    },
    {
      "cell_type": "code",
      "source": [
        "def insert_data_gold_df2(session, data):\n",
        "    \"\"\"\n",
        "    Inserts data into the bigdata.gold_df2 table.\n",
        "\n",
        "    Parameters:\n",
        "        session: The Cassandra session object.\n",
        "        data (DataFrame): DataFrame containing 'Year' and 'Average_Population'.\n",
        "    \"\"\"\n",
        "    for index, row in data.iterrows():\n",
        "        session.execute(\"\"\"\n",
        "        INSERT INTO bigdata.gold_df2 (year, average_population)\n",
        "        VALUES (%s, %s)\n",
        "        \"\"\", (int(row['Year']), float(row['Average_Population'])))"
      ],
      "metadata": {
        "id": "l2aMYPgkECMD"
      },
      "execution_count": null,
      "outputs": []
    },
    {
      "cell_type": "markdown",
      "source": [
        "### Plot average population"
      ],
      "metadata": {
        "id": "LoMPKLYEF-wG"
      }
    },
    {
      "cell_type": "code",
      "source": [
        "def plot_average_population(gold_df2):\n",
        "    \"\"\"\n",
        "    Creates a bar chart of the average population per year.\n",
        "\n",
        "    Parameters:\n",
        "        gold_df2 (DataFrame): DataFrame containing 'Year' and 'Average_Population'.\n",
        "    \"\"\"\n",
        "    plt.figure(figsize=(10, 6))\n",
        "    plt.bar(gold_df2['Year'], gold_df2['Average_Population'], color='skyblue')\n",
        "    plt.xlabel('Year')\n",
        "    plt.ylabel('Average Population')\n",
        "    plt.title('Average Population by Year')\n",
        "    plt.grid(True)\n",
        "    plt.show()"
      ],
      "metadata": {
        "id": "yMVRzljj-qfI"
      },
      "execution_count": null,
      "outputs": []
    },
    {
      "cell_type": "markdown",
      "source": [
        "### Create Gold DF3"
      ],
      "metadata": {
        "id": "zjFTDV6AEKFu"
      }
    },
    {
      "cell_type": "code",
      "source": [
        "def create_gold_df3(silver_df):\n",
        "    \"\"\"\n",
        "    Counts the number of entries per year and gender from the silver dataset.\n",
        "\n",
        "    Parameters:\n",
        "        silver_df (DataFrame): Cleaned DataFrame with at least 'Year' and 'Sex' columns.\n",
        "\n",
        "    Returns:\n",
        "        DataFrame: Aggregated DataFrame with each year's and gender's count of entries.\n",
        "    \"\"\"\n",
        "    gold_df3 = silver_df.groupby(['Year', 'Sex']).size().reset_index(name='Count')\n",
        "    return gold_df3"
      ],
      "metadata": {
        "id": "krJjeKYB_JAr"
      },
      "execution_count": null,
      "outputs": []
    },
    {
      "cell_type": "markdown",
      "source": [
        "### Create Gold DF3 Table"
      ],
      "metadata": {
        "id": "u5KNCK4BEPNc"
      }
    },
    {
      "cell_type": "code",
      "source": [
        "def create_table_gold_df3(session):\n",
        "    \"\"\"\n",
        "    Creates a table for storing counts of entries by year and gender in Cassandra.\n",
        "\n",
        "    Parameters:\n",
        "        session: The Cassandra session object.\n",
        "    \"\"\"\n",
        "    session.execute(\"\"\"\n",
        "    CREATE TABLE IF NOT EXISTS bigdata.gold_df3 (\n",
        "        year INT,\n",
        "        sex TEXT,\n",
        "        count INT,\n",
        "        PRIMARY KEY (year, sex)\n",
        "    )\n",
        "    \"\"\")"
      ],
      "metadata": {
        "id": "cnpR0pY_EO3d"
      },
      "execution_count": null,
      "outputs": []
    },
    {
      "cell_type": "markdown",
      "source": [
        "### Insert into Gold DF3 Table"
      ],
      "metadata": {
        "id": "ALRAiJQbEWGy"
      }
    },
    {
      "cell_type": "code",
      "source": [
        "def insert_data_gold_df3(session, data):\n",
        "    \"\"\"\n",
        "    Inserts data into the bigdata.gold_df3 table.\n",
        "\n",
        "    Parameters:\n",
        "        session: The Cassandra session object.\n",
        "        data (DataFrame): DataFrame containing 'Year', 'Sex', and 'Count'.\n",
        "    \"\"\"\n",
        "    for index, row in data.iterrows():\n",
        "        session.execute(\"\"\"\n",
        "        INSERT INTO bigdata.gold_df3 (year, sex, count)\n",
        "        VALUES (%s, %s, %s)\n",
        "        \"\"\", (int(row['Year']), row['Sex'], int(row['Count'])))"
      ],
      "metadata": {
        "id": "aqOyN191H5PD"
      },
      "execution_count": null,
      "outputs": []
    },
    {
      "cell_type": "markdown",
      "source": [
        "### Predict Gender Distribution"
      ],
      "metadata": {
        "id": "SCXHsx-EGGg3"
      }
    },
    {
      "cell_type": "code",
      "source": [
        "\n",
        "def predict_gender_distribution(gold_df3):\n",
        "    \"\"\"\n",
        "    Fits a logistic regression model to predict gender based on the year and count of entries.\n",
        "\n",
        "    Parameters:\n",
        "        gold_df3 (DataFrame): DataFrame containing 'Year', 'Sex', and 'Count'.\n",
        "\n",
        "    Returns:\n",
        "        float: The accuracy of the model.\n",
        "    \"\"\"\n",
        "    # Convert 'Sex' to a binary variable\n",
        "    gold_df3['Is_Male'] = (gold_df3['Sex'] == 'Male').astype(int)\n",
        "\n",
        "    X = gold_df3[['Year', 'Count']]\n",
        "    y = gold_df3['Is_Male']\n",
        "\n",
        "    X_train, X_test, y_train, y_test = train_test_split(X, y, test_size=0.3, random_state=42)\n",
        "\n",
        "    model = LogisticRegression()\n",
        "    model.fit(X_train, y_train)\n",
        "\n",
        "    predictions = model.predict(X_test)\n",
        "    accuracy = accuracy_score(y_test, predictions)\n",
        "\n",
        "    return accuracy"
      ],
      "metadata": {
        "id": "NiqKKZd0-toF"
      },
      "execution_count": null,
      "outputs": []
    },
    {
      "cell_type": "code",
      "source": [
        "def table_view(session,table_name):\n",
        "    \"\"\"\n",
        "    Creates a table for storing counts of entries by year and gender in Cassandra.\n",
        "\n",
        "    Parameters:\n",
        "        session: The Cassandra session object.\n",
        "    \"\"\"\n",
        "    result =session.execute(f\"\"\"\n",
        "    SELECT * FROM bigdata.{table_name} limit 5;\n",
        "    \"\"\")\n",
        "    for row in result:\n",
        "        print(row)  # Print each row of the result"
      ],
      "metadata": {
        "id": "tyc7gp-OSaz0"
      },
      "execution_count": null,
      "outputs": []
    },
    {
      "cell_type": "markdown",
      "source": [
        "# Main"
      ],
      "metadata": {
        "id": "LnQe-qjoMcpR"
      }
    },
    {
      "cell_type": "code",
      "source": [
        "if __name__ == \"__main__\":\n",
        "  try:\n",
        "    data = bronze_data()\n",
        "    print(\"===============================================================================================================================================================\")\n",
        "    print(\"Bronze Table\\n\")\n",
        "    bronze = create_bronze_table(session)\n",
        "    bronze = insert_data_to_bronze(session,data)\n",
        "    print(\"Bronze Table created Successfully\\n\")\n",
        "    print(\"Bronze Table inserted Successfully\\n\")\n",
        "    table_view(session,'disease_bronze')\n",
        "\n",
        "\n",
        "    print(\"===============================================================================================================================================================\")\n",
        "    print(\"Silver Table\")\n",
        "\n",
        "    silver_df = bronze_clean(data)\n",
        "\n",
        "    silver = create_silver_table(session)\n",
        "    silver = insert_data_to_silver(session,silver_df)\n",
        "    print(\"Silver Table created Successfully\\n\")\n",
        "    print(\"Silver Table inserted Successfully\\n\")\n",
        "    table_view(session,'disease_silver')\n",
        "\n",
        "    print(\"===============================================================================================================================================================\")\n",
        "    print(\"Gold Tables\\n\")\n",
        "\n",
        "    #Gold df1\n",
        "    gold_df1 = create_gold_df1(silver_df)\n",
        "\n",
        "    gold1=create_table_gold_df1(session)\n",
        "    print(\"Gold table 1 created\\n\")\n",
        "\n",
        "    gold1=insert_data_gold_df1(session, gold_df1)\n",
        "    print(\"Gold table 1 inserted\\n\")\n",
        "    table_view(session,'gold_df1')\n",
        "\n",
        "\n",
        "    gold_df2 = create_gold_df2(silver_df)\n",
        "\n",
        "    gold2=create_table_gold_df2(session)\n",
        "    print(\"Gold 2 table created\\n\")\n",
        "\n",
        "    gold2=insert_data_gold_df2(session, gold_df2)\n",
        "    print(\"Gold 2 table inserted\\n\")\n",
        "    table_view(session,'gold_df2')\n",
        "\n",
        "\n",
        "    gold_df3 = create_gold_df3(silver_df)\n",
        "\n",
        "    gold3=create_table_gold_df3(session)\n",
        "    print(\"Gold 3 table created\\n\")\n",
        "\n",
        "    gold3=insert_data_gold_df3(session, gold_df3)\n",
        "    print(\"Gold 3 table inserted\\n\")\n",
        "    table_view(session,'gold_df3')\n",
        "\n",
        "\n",
        "    print(\"Visualizations\\n\")\n",
        "    print(\"===============================================================================================================================================================\")\n",
        "    print(\"Plot Cases by Year\\n\")\n",
        "    plot_cases_by_year(gold_df1)\n",
        "    print(\"===============================================================================================================================================================\")\n",
        "    print(\"Plot Average Population\\n\")\n",
        "    plot_average_population(gold_df2)\n",
        "    print(\"===============================================================================================================================================================\")\n",
        "    print(\"Predict Gender Distribution\\n\")\n",
        "    accuracy = predict_gender_distribution(gold_df3)\n",
        "    print(\"===============================================================================================================================================================\")\n",
        "    print(f\"The accuracy of the gender prediction model is\\n: {accuracy:.2%}\")\n",
        "\n",
        "  except Exception as e:\n",
        "    print(f\"Error in main: {e}\")"
      ],
      "metadata": {
        "colab": {
          "base_uri": "https://localhost:8080/",
          "height": 1000
        },
        "id": "eF-3rtDBBR7z",
        "outputId": "af023e19-e93c-4238-ae98-ec918786b2b8"
      },
      "execution_count": null,
      "outputs": [
        {
          "output_type": "stream",
          "name": "stdout",
          "text": [
            "===============================================================================================================================================================\n",
            "Bronze Table\n",
            "\n",
            "Bronze Table created Successfully\n",
            "\n",
            "Bronze Table inserted Successfully\n",
            "\n",
            "Row(surrogate_key=4317, cases=0.0, county='Colusa', disease='Anthrax', lower_95_ci=0.0, population=21270, rate='-', sex='Total', upper_95_ci=17.341999053955078, year=2009)\n",
            "Row(surrogate_key=62693, cases=0.0, county='Orange', disease='Domoic Acid Poisoning', lower_95_ci=0.0, population=1433646, rate='-', sex='Male', upper_95_ci=0.25699999928474426, year=2001)\n",
            "Row(surrogate_key=121478, cases=0.0, county='Santa Clara', disease='Psittacosis', lower_95_ci=0.0, population=985443, rate='-', sex='Male', upper_95_ci=0.37400001287460327, year=2017)\n",
            "Row(surrogate_key=113295, cases=0.0, county='San Diego', disease='Paratyphoid Fever', lower_95_ci=0.0, population=3276113, rate='-', sex='Total', upper_95_ci=0.11299999803304672, year=2017)\n",
            "Row(surrogate_key=176996, cases=0.0, county='Yuba', disease='Vibrio Infection (non-Cholera)', lower_95_ci=0.0, population=39302, rate='-', sex='Male', upper_95_ci=9.38599967956543, year=2021)\n",
            "===============================================================================================================================================================\n",
            "Silver Table\n",
            "Columns renamed successfully.\n",
            "Replaced - with None in Rate.\n",
            "Asterisks removed from Rate.\n",
            "Missing values filled using median.\n",
            "Missing values filled using mean.\n",
            "Missing values filled using mean.\n",
            "Missing values filled using mean.\n",
            "Converted Year to <class 'int'>.\n",
            "Invalid data removed from County.\n",
            "Replaced Unknown with Other in Sex.\n",
            "Duplicate rows removed.\n",
            "Silver Table created Successfully\n",
            "\n",
            "Silver Table inserted Successfully\n",
            "\n",
            "Row(surrogate_key=4317, cases=0.0, county='Colusa', disease='Anthrax', lower_95_ci=0.0, population=21270, rate='-', sex='Total', upper_95_ci=17.341999053955078, year=2009)\n",
            "Row(surrogate_key=62693, cases=0.0, county='Orange', disease='Domoic Acid Poisoning', lower_95_ci=0.0, population=1433646, rate='-', sex='Male', upper_95_ci=0.25699999928474426, year=2001)\n",
            "Row(surrogate_key=121478, cases=0.0, county='Santa Clara', disease='Psittacosis', lower_95_ci=0.0, population=985443, rate='-', sex='Male', upper_95_ci=0.37400001287460327, year=2017)\n",
            "Row(surrogate_key=113295, cases=0.0, county='San Diego', disease='Paratyphoid Fever', lower_95_ci=0.0, population=3276113, rate='-', sex='Total', upper_95_ci=0.11299999803304672, year=2017)\n",
            "Row(surrogate_key=176996, cases=0.0, county='Yuba', disease='Vibrio Infection (non-Cholera)', lower_95_ci=0.0, population=39302, rate='-', sex='Male', upper_95_ci=9.38599967956543, year=2021)\n",
            "===============================================================================================================================================================\n",
            "Gold Tables\n",
            "\n",
            "Gold table 1 created\n",
            "\n",
            "Gold table 1 inserted\n",
            "\n",
            "Row(year=2019, average_cases=16.42479133605957, total_cases=151173)\n",
            "Row(year=2014, average_cases=10.13625717163086, total_cases=87911)\n",
            "Row(year=2003, average_cases=8.419914245605469, total_cases=68554)\n",
            "Row(year=2009, average_cases=8.776392936706543, total_cases=73010)\n",
            "Row(year=2010, average_cases=10.220454216003418, total_cases=85023)\n",
            "Gold 2 table created\n",
            "\n",
            "Gold 2 table inserted\n",
            "\n",
            "Row(year=2019, average_population=895940.8125)\n",
            "Row(year=2014, average_population=874016.3125)\n",
            "Row(year=2003, average_population=799749.8125)\n",
            "Row(year=2009, average_population=837902.9375)\n",
            "Row(year=2010, average_population=841897.3125)\n",
            "Gold 3 table created\n",
            "\n",
            "Gold 3 table inserted\n",
            "\n",
            "Row(year=2019, sex='Female', count=3068)\n",
            "Row(year=2019, sex='Male', count=3068)\n",
            "Row(year=2019, sex='Total', count=3068)\n",
            "Row(year=2014, sex='Female', count=2891)\n",
            "Row(year=2014, sex='Male', count=2891)\n",
            "Visualizations\n",
            "\n",
            "===============================================================================================================================================================\n",
            "Plot Cases by Year\n",
            "\n"
          ]
        },
        {
          "output_type": "display_data",
          "data": {
            "text/plain": [
              "<Figure size 1000x600 with 2 Axes>"
            ],
            "image/png": "[encoded data removed]"
          },
          "metadata": {}
        },
        {
          "output_type": "stream",
          "name": "stdout",
          "text": [
            "===============================================================================================================================================================\n",
            "Plot Average Population\n",
            "\n"
          ]
        },
        {
          "output_type": "display_data",
          "data": {
            "text/plain": [
              "<Figure size 1000x600 with 1 Axes>"
            ],
            "image/png": "[encoded data removed]"
          },
          "metadata": {}
        },
        {
          "output_type": "stream",
          "name": "stdout",
          "text": [
            "===============================================================================================================================================================\n",
            "Predict Gender Distribution\n",
            "\n",
            "===============================================================================================================================================================\n",
            "The accuracy of the gender prediction model is\n",
            ": 75.00%\n"
          ]
        }
      ]
    }
  ],
  "metadata": {
    "colab": {
      "provenance": [],
      "toc_visible": true
    },
    "kernelspec": {
      "display_name": "Python 3",
      "name": "python3"
    },
    "language_info": {
      "name": "python"
    }
  },
  "nbformat": 4,
  "nbformat_minor": 0
}